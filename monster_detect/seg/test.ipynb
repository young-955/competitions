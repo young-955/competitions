{
 "cells": [
  {
   "cell_type": "code",
   "execution_count": 1,
   "metadata": {},
   "outputs": [],
   "source": [
    "from segment_anything import SamAutomaticMaskGenerator, sam_model_registry\n",
    "sam = sam_model_registry[\"default\"](checkpoint=\"./model/sam_vit_h_4b8939.pth\")\n",
    "mask_generator = SamAutomaticMaskGenerator(sam)\n",
    "# mask_generator.predictor.model.cuda()"
   ]
  },
  {
   "cell_type": "code",
   "execution_count": 2,
   "metadata": {},
   "outputs": [
    {
     "ename": "",
     "evalue": "",
     "output_type": "error",
     "traceback": [
      "\u001b[1;31mCanceled future for execute_request message before replies were done"
     ]
    },
    {
     "ename": "",
     "evalue": "",
     "output_type": "error",
     "traceback": [
      "\u001b[1;31mThe Kernel crashed while executing code in the the current cell or a previous cell. Please review the code in the cell(s) to identify a possible cause of the failure. Click <a href='https://aka.ms/vscodeJupyterKernelCrash'>here</a> for more info. View Jupyter <a href='command:jupyter.viewOutput'>log</a> for further details."
     ]
    }
   ],
   "source": [
    "# CPU: 86.40612578392029s\n",
    "# GPU: 6.959840774536133\n",
    "import cv2\n",
    "from PIL import Image\n",
    "import torch\n",
    "image = cv2.imread(r'../data/data/class1/train/NVR_ch1_main_20220908120000_20220908130000.dav_000637.134.jpg')\n",
    "import time\n",
    "t1 = time.time()\n",
    "masks = mask_generator.generate(image)\n",
    "t2 = time.time()\n",
    "print(t2 - t1)\n",
    "print(torch.cuda.max_memory_allocated() / 1024 / 1024 / 1024)\n"
   ]
  },
  {
   "cell_type": "code",
   "execution_count": 7,
   "metadata": {},
   "outputs": [
    {
     "data": {
      "text/plain": [
       "dict_keys(['segmentation', 'area', 'bbox', 'predicted_iou', 'point_coords', 'stability_score', 'crop_box'])"
      ]
     },
     "execution_count": 7,
     "metadata": {},
     "output_type": "execute_result"
    }
   ],
   "source": [
    "len(masks)\n",
    "masks[0].keys()"
   ]
  },
  {
   "attachments": {},
   "cell_type": "markdown",
   "metadata": {},
   "source": [
    "        Y        X    C\n",
    "image[0:2560, 0:1440, :]\n",
    "\n",
    "bbox: [X, Y, W, H]"
   ]
  },
  {
   "cell_type": "code",
   "execution_count": 4,
   "metadata": {},
   "outputs": [
    {
     "name": "stdout",
     "output_type": "stream",
     "text": [
      "[0, 1135194]\n",
      "[3, 528895]\n",
      "[878, 7, 1234, 1428]\n",
      "[288, 0, 1060, 1435]\n"
     ]
    }
   ],
   "source": [
    "import copy\n",
    "cv2.imwrite(f'./test/ori.png', image)\n",
    "max_area = [0, 0]\n",
    "next_area = [0, 0]\n",
    "for i, m in enumerate(masks):\n",
    "    cv2.imwrite(f'./test/{i}.png', image[m['bbox'][1]: m['bbox'][1] + m['bbox'][3], m['bbox'][0]:m['bbox'][0] + m['bbox'][2], :])\n",
    "    if m['area'] > next_area[1]:\n",
    "        if m['area'] > max_area[1]:\n",
    "            next_area = copy.deepcopy(max_area)\n",
    "            max_area[0] = i\n",
    "            max_area[1] = m['area']\n",
    "        else:\n",
    "            next_area[0] = i\n",
    "            next_area[1] = m['area']\n",
    "print(max_area)\n",
    "print(next_area)\n",
    "    \n",
    "\n",
    "print(masks[max_area[0]]['bbox'])\n",
    "print(masks[next_area[0]]['bbox'])\n"
   ]
  },
  {
   "cell_type": "code",
   "execution_count": 2,
   "metadata": {},
   "outputs": [],
   "source": [
    "import os\n",
    "def read_text(path):\n",
    "    res = []\n",
    "    base_path = os.path.dirname(os.path.dirname(path))\n",
    "    with open(path, 'r') as f:\n",
    "        for p in f.readlines():\n",
    "            p = p.replace('\\n', '').split(',')\n",
    "            p[0] = os.path.join(base_path, p[0])\n",
    "            res.append(p)\n",
    "\n",
    "    return res\n",
    "\n",
    "class1_train_data = read_text(r'../data/data/class1/class1_train.txt')\n"
   ]
  },
  {
   "cell_type": "code",
   "execution_count": 3,
   "metadata": {},
   "outputs": [],
   "source": [
    "class1_train_data[0][0]\n",
    "import cv2\n",
    "img = cv2.imread(class1_train_data[0][0])\n",
    "cv2.imshow('1', img)\n",
    "cv2.waitKey(0)"
   ]
  },
  {
   "cell_type": "code",
   "execution_count": 2,
   "metadata": {},
   "outputs": [],
   "source": [
    "import pandas as pd\n",
    "\n",
    "class3_train_data = pd.read_csv(r'../data/data/class3/train_infos.csv')\n"
   ]
  },
  {
   "cell_type": "code",
   "execution_count": 15,
   "metadata": {},
   "outputs": [
    {
     "data": {
      "text/plain": [
       "array([['20220423070251[1]_08.jpg', 3],\n",
       "       ['20220421070317[1]_41.jpg', 3],\n",
       "       ['20220424224117[1]_58.jpg', 3],\n",
       "       ['20220421070828[1]_32.jpg', 3],\n",
       "       ['20220423063619[1]_33.jpg', 3],\n",
       "       ['20220423060526[1]_41.jpg', 3],\n",
       "       ['20220423040017[1]_49.jpg', 3],\n",
       "       ['20220423090028[1]_24.jpg', 3],\n",
       "       ['20220424093815[1]_06.jpg', 3],\n",
       "       ['20220423122535[1]_99.jpg', 3],\n",
       "       ['20220426120121[1]_70.jpg', 3],\n",
       "       ['20220423090629[1]_58.jpg', 3],\n",
       "       ['20220423115524[1]_31.jpg', 3],\n",
       "       ['20220423160421[1]_00.jpg', 3],\n",
       "       ['20220423093616[1]_74.jpg', 3],\n",
       "       ['20220421070307[1]_87.jpg', 3],\n",
       "       ['20220423144230[1]_64.jpg', 3],\n",
       "       ['20220426120509[1]_63.jpg', 3],\n",
       "       ['20220426120521[1]_56.jpg', 3],\n",
       "       ['20220426160538[1]_18.jpg', 3],\n",
       "       ['20220423190653[1]_08.jpg', 3],\n",
       "       ['20220423121611[1]_79.jpg', 3],\n",
       "       ['20220423122043[1]_36.jpg', 3],\n",
       "       ['20220423160045[1]_98.jpg', 3],\n",
       "       ['20220423141040[1]_60.jpg', 3],\n",
       "       ['20220423091552[1]_04.jpg', 3],\n",
       "       ['20220424123308[1]_95.jpg', 3],\n",
       "       ['20220429004621[1]_79.jpg', 3],\n",
       "       ['20220423060445[1]_52.jpg', 3],\n",
       "       ['20220423090545[1]_37.jpg', 3],\n",
       "       ['20220423091339[1]_06.jpg', 3],\n",
       "       ['20220426161033[1]_35.jpg', 3],\n",
       "       ['20220423090209[1]_97.jpg', 3],\n",
       "       ['20220424090224[1]_28.jpg', 3],\n",
       "       ['20220424083254[1]_46.jpg', 3],\n",
       "       ['20220423160758[1]_19.jpg', 3],\n",
       "       ['20220423141302[1]_85.jpg', 3],\n",
       "       ['20220423124325[1]_47.jpg', 3],\n",
       "       ['20220423060029[1]_68.jpg', 3],\n",
       "       ['20220423091034[1]_66.jpg', 3],\n",
       "       ['20220423121358[1]_15.jpg', 3],\n",
       "       ['20220423114915[1]_46.jpg', 3],\n",
       "       ['20220423115143[1]_91.jpg', 3],\n",
       "       ['20220423112635[1]_35.jpg', 3],\n",
       "       ['20220423160128[1]_76.jpg', 3],\n",
       "       ['59b317159f88a20993dbc85d1e0c1cb.jpg', 3],\n",
       "       ['20220423190316[1]_85.jpg', 3],\n",
       "       ['20220421070505[1]_23.jpg', 3],\n",
       "       ['20220423090823[1]_78.jpg', 3],\n",
       "       ['20220424081143[1]_14.jpg', 3]], dtype=object)"
      ]
     },
     "execution_count": 15,
     "metadata": {},
     "output_type": "execute_result"
    }
   ],
   "source": [
    "class3_train_data[['filename', 'label']].drop_duplicates().values\n"
   ]
  },
  {
   "cell_type": "code",
   "execution_count": 1,
   "metadata": {},
   "outputs": [],
   "source": [
    "import pandas as pd\n",
    "a = [[12, 32], [321, 42]]\n",
    "b = pd.DataFrame(a)"
   ]
  },
  {
   "cell_type": "code",
   "execution_count": 3,
   "metadata": {},
   "outputs": [
    {
     "data": {
      "text/plain": [
       "123"
      ]
     },
     "execution_count": 3,
     "metadata": {},
     "output_type": "execute_result"
    }
   ],
   "source": [
    "a  = '123'\n",
    "b = int(a)\n",
    "b"
   ]
  },
  {
   "cell_type": "code",
   "execution_count": null,
   "metadata": {},
   "outputs": [],
   "source": []
  }
 ],
 "metadata": {
  "kernelspec": {
   "display_name": "Python 3",
   "language": "python",
   "name": "python3"
  },
  "language_info": {
   "codemirror_mode": {
    "name": "ipython",
    "version": 3
   },
   "file_extension": ".py",
   "mimetype": "text/x-python",
   "name": "python",
   "nbconvert_exporter": "python",
   "pygments_lexer": "ipython3",
   "version": "3.10.6"
  },
  "orig_nbformat": 4,
  "vscode": {
   "interpreter": {
    "hash": "916dbcbb3f70747c44a77c7bcd40155683ae19c65e1c03b4aa3499c5328201f1"
   }
  }
 },
 "nbformat": 4,
 "nbformat_minor": 2
}
